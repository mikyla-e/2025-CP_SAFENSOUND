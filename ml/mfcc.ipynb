{
 "cells": [
  {
   "cell_type": "markdown",
   "id": "d2925c55",
   "metadata": {},
   "source": [
    "# SafeNSound: Initial MFCC Development"
   ]
  },
  {
   "cell_type": "markdown",
   "id": "69be3080",
   "metadata": {},
   "source": [
    "## 1. Importing Libraries"
   ]
  },
  {
   "cell_type": "code",
   "execution_count": 13,
   "id": "c3f319b8",
   "metadata": {},
   "outputs": [],
   "source": [
    "import numpy as np\n",
    "import pandas as pd\n",
    "import matplotlib.pyplot as plt\n",
    "import seaborn as sns\n",
    "import os\n",
    "import librosa as lb\n",
    "import librosa.display as ld\n",
    "import tensorflow as tf\n",
    "from tensorflow import keras\n",
    "from tensorflow.keras import layers, models\n",
    "import sounddevice as sd\n",
    "from sklearn.model_selection import train_test_split"
   ]
  },
  {
   "cell_type": "markdown",
   "id": "b84e3534",
   "metadata": {},
   "source": [
    "## 2. Datasets"
   ]
  },
  {
   "cell_type": "code",
   "execution_count": null,
   "id": "6aea2369",
   "metadata": {},
   "outputs": [],
   "source": [
    "PATH = \"datasets/placeholder/\"\n",
    "EMERGENCY_PATH = os.path.join(PATH, \"emergency/\")\n",
    "NORMAL_PATH = os.path.join(PATH, \"normal/\")\n",
    "\n",
    "def load_audio_files(directory, filename):\n",
    "    if not os.path.exists(directory):\n",
    "        raise FileNotFoundError(f\"Directory {directory} does not exist.\")\n",
    "\n",
    "    if filename.endswith('.wav'):\n",
    "        file_path = os.path.join(directory, filename)\n",
    "        try:\n",
    "            wav, sr = lb.load(file_path, sr=16000, mono=True)\n",
    "            ##wav = tf.convert_to_tensor(wav, dtype=tf.float32)\n",
    "        except Exception as e:\n",
    "            print(f\"Error loading {file_path}: {e}\")\n",
    "    return wav, sr\n",
    "\n",
    "#get audio real-time\n",
    "## def record_audio(duration=5, sample_rate=16000):\n"
   ]
  },
  {
   "cell_type": "markdown",
   "id": "c65d7a4a",
   "metadata": {},
   "source": [
    "## 3. Extract MFCC"
   ]
  },
  {
   "cell_type": "code",
   "execution_count": 26,
   "id": "44974790",
   "metadata": {},
   "outputs": [],
   "source": [
    "def extract_mfcc(audio, sample_rate, n_mfcc=40, max_len=160, hop_length=512):\n",
    "    mfcc = lb.feature.mfcc(y=audio, sr=sample_rate, n_mfcc=n_mfcc, hop_length=hop_length)\n",
    "    \n",
    "    if mfcc.shape[1] < max_len:\n",
    "        mfcc = np.pad(mfcc, ((0,0),(0, max_len - mfcc.shape[1])), mode='constant')\n",
    "    else:\n",
    "        mfcc = mfcc[:, :max_len]\n",
    "    \n",
    "    return mfcc"
   ]
  },
  {
   "cell_type": "markdown",
   "id": "5c153e69",
   "metadata": {},
   "source": [
    "## 4. Build Dataset"
   ]
  },
  {
   "cell_type": "code",
   "execution_count": 27,
   "id": "0a842d82",
   "metadata": {},
   "outputs": [],
   "source": [
    "X = []\n",
    "y = []\n",
    "labels = {\"emergency\": 1, \"normal\": 0}\n",
    "\n",
    "for label, idx in labels.items():\n",
    "    folder = f\"{PATH}{label}\"\n",
    "    for file in os.listdir(folder):\n",
    "        if file.endswith(\".wav\"):\n",
    "            wav, sr = load_audio_files(folder, file)\n",
    "            mfcc = extract_mfcc(wav, sr)\n",
    "\n",
    "            # try:\n",
    "            #     plt.figure(figsize=(12, 5))\n",
    "            #     lb.display.specshow(mfcc, x_axis='time', sr=sr)\n",
    "            #     plt.colorbar()\n",
    "            #     plt.title(file)\n",
    "            #     plt.tight_layout()\n",
    "            #     plt.show()\n",
    "            # except Exception as e:\n",
    "            #     print(f\"Error displaying MFCC for {file}: {e}\")\n",
    "            #     continue\n",
    "\n",
    "            X.append(mfcc)\n",
    "            y.append(idx)\n",
    "\n",
    "X = np.array(X)\n",
    "y = np.array(y)"
   ]
  },
  {
   "cell_type": "markdown",
   "id": "a82eb16c",
   "metadata": {},
   "source": [
    "## 5. Prepare Data & Train"
   ]
  },
  {
   "cell_type": "code",
   "execution_count": 28,
   "id": "3837c508",
   "metadata": {},
   "outputs": [
    {
     "name": "stdout",
     "output_type": "stream",
     "text": [
      "(19, 40, 160, 1)\n"
     ]
    }
   ],
   "source": [
    "X = X[..., np.newaxis]\n",
    "print(X.shape)"
   ]
  },
  {
   "cell_type": "code",
   "execution_count": 29,
   "id": "c3e602e2",
   "metadata": {},
   "outputs": [],
   "source": [
    "X_train, X_temp, y_train, y_temp = train_test_split(X, y, test_size=0.3, random_state=42, stratify=y)\n",
    "\n",
    "X_val, X_test, y_val, y_test = train_test_split(X_temp, y_temp, test_size=0.5, random_state=42, stratify=y_temp)"
   ]
  },
  {
   "cell_type": "markdown",
   "id": "9628ecdd",
   "metadata": {},
   "source": [
    "## 6. CNN"
   ]
  },
  {
   "cell_type": "code",
   "execution_count": 30,
   "id": "d824c08c",
   "metadata": {},
   "outputs": [],
   "source": [
    "model = models.Sequential([\n",
    "    layers.Input(shape=(40, 160, 1)),\n",
    "    layers.Conv2D(32, (3,3), activation='relu'),\n",
    "    layers.MaxPooling2D((2,2)),\n",
    "    layers.Conv2D(64, (3,3), activation='relu'),\n",
    "    layers.MaxPooling2D((2,2)),\n",
    "    layers.Flatten(),\n",
    "    layers.Dense(128, activation='relu'),\n",
    "    layers.Dropout(0.3),\n",
    "    layers.Dense(1, activation='sigmoid')\n",
    "])"
   ]
  },
  {
   "cell_type": "code",
   "execution_count": 31,
   "id": "4f6c2acf",
   "metadata": {},
   "outputs": [],
   "source": [
    "model.compile(optimizer='adam', loss='categorical_crossentropy', metrics=['accuracy'])"
   ]
  },
  {
   "cell_type": "markdown",
   "id": "723052a6",
   "metadata": {},
   "source": [
    "## 7. Train"
   ]
  },
  {
   "cell_type": "code",
   "execution_count": 32,
   "id": "6479188b",
   "metadata": {},
   "outputs": [
    {
     "name": "stdout",
     "output_type": "stream",
     "text": [
      "Epoch 1/30\n"
     ]
    },
    {
     "name": "stderr",
     "output_type": "stream",
     "text": [
      "c:\\Users\\Acer\\Documents\\GitHub\\SafeNSound-An-IoT-Based-Distress-Signals-Detection-for-Semi-private-Rooms-using-Sound-Sensor\\myenv\\lib\\site-packages\\keras\\src\\losses\\losses.py:33: SyntaxWarning: In loss categorical_crossentropy, expected y_pred.shape to be (batch_size, num_classes) with num_classes > 1. Received: y_pred.shape=(None, 1). Consider using 'binary_crossentropy' if you only have 2 classes.\n",
      "  return self.fn(y_true, y_pred, **self._fn_kwargs)\n"
     ]
    },
    {
     "name": "stdout",
     "output_type": "stream",
     "text": [
      "\u001b[1m1/1\u001b[0m \u001b[32m━━━━━━━━━━━━━━━━━━━━\u001b[0m\u001b[37m\u001b[0m \u001b[1m1s\u001b[0m 1s/step - accuracy: 0.5385 - loss: 0.0000e+00 - val_accuracy: 0.3333 - val_loss: 0.0000e+00\n",
      "Epoch 2/30\n",
      "\u001b[1m1/1\u001b[0m \u001b[32m━━━━━━━━━━━━━━━━━━━━\u001b[0m\u001b[37m\u001b[0m \u001b[1m0s\u001b[0m 136ms/step - accuracy: 0.5385 - loss: 0.0000e+00 - val_accuracy: 0.3333 - val_loss: 0.0000e+00\n",
      "Epoch 3/30\n",
      "\u001b[1m1/1\u001b[0m \u001b[32m━━━━━━━━━━━━━━━━━━━━\u001b[0m\u001b[37m\u001b[0m \u001b[1m0s\u001b[0m 154ms/step - accuracy: 0.5385 - loss: 0.0000e+00 - val_accuracy: 0.3333 - val_loss: 0.0000e+00\n",
      "Epoch 4/30\n",
      "\u001b[1m1/1\u001b[0m \u001b[32m━━━━━━━━━━━━━━━━━━━━\u001b[0m\u001b[37m\u001b[0m \u001b[1m0s\u001b[0m 143ms/step - accuracy: 0.5385 - loss: 0.0000e+00 - val_accuracy: 0.3333 - val_loss: 0.0000e+00\n",
      "Epoch 5/30\n",
      "\u001b[1m1/1\u001b[0m \u001b[32m━━━━━━━━━━━━━━━━━━━━\u001b[0m\u001b[37m\u001b[0m \u001b[1m0s\u001b[0m 111ms/step - accuracy: 0.5385 - loss: 0.0000e+00 - val_accuracy: 0.3333 - val_loss: 0.0000e+00\n",
      "Epoch 6/30\n",
      "\u001b[1m1/1\u001b[0m \u001b[32m━━━━━━━━━━━━━━━━━━━━\u001b[0m\u001b[37m\u001b[0m \u001b[1m0s\u001b[0m 123ms/step - accuracy: 0.5385 - loss: 0.0000e+00 - val_accuracy: 0.3333 - val_loss: 0.0000e+00\n",
      "Epoch 7/30\n",
      "\u001b[1m1/1\u001b[0m \u001b[32m━━━━━━━━━━━━━━━━━━━━\u001b[0m\u001b[37m\u001b[0m \u001b[1m0s\u001b[0m 158ms/step - accuracy: 0.5385 - loss: 0.0000e+00 - val_accuracy: 0.3333 - val_loss: 0.0000e+00\n",
      "Epoch 8/30\n",
      "\u001b[1m1/1\u001b[0m \u001b[32m━━━━━━━━━━━━━━━━━━━━\u001b[0m\u001b[37m\u001b[0m \u001b[1m0s\u001b[0m 114ms/step - accuracy: 0.5385 - loss: 0.0000e+00 - val_accuracy: 0.3333 - val_loss: 0.0000e+00\n",
      "Epoch 9/30\n",
      "\u001b[1m1/1\u001b[0m \u001b[32m━━━━━━━━━━━━━━━━━━━━\u001b[0m\u001b[37m\u001b[0m \u001b[1m0s\u001b[0m 114ms/step - accuracy: 0.5385 - loss: 0.0000e+00 - val_accuracy: 0.3333 - val_loss: 0.0000e+00\n",
      "Epoch 10/30\n",
      "\u001b[1m1/1\u001b[0m \u001b[32m━━━━━━━━━━━━━━━━━━━━\u001b[0m\u001b[37m\u001b[0m \u001b[1m0s\u001b[0m 132ms/step - accuracy: 0.5385 - loss: 0.0000e+00 - val_accuracy: 0.3333 - val_loss: 0.0000e+00\n",
      "Epoch 11/30\n",
      "\u001b[1m1/1\u001b[0m \u001b[32m━━━━━━━━━━━━━━━━━━━━\u001b[0m\u001b[37m\u001b[0m \u001b[1m0s\u001b[0m 110ms/step - accuracy: 0.5385 - loss: 0.0000e+00 - val_accuracy: 0.3333 - val_loss: 0.0000e+00\n",
      "Epoch 12/30\n",
      "\u001b[1m1/1\u001b[0m \u001b[32m━━━━━━━━━━━━━━━━━━━━\u001b[0m\u001b[37m\u001b[0m \u001b[1m0s\u001b[0m 114ms/step - accuracy: 0.5385 - loss: 0.0000e+00 - val_accuracy: 0.3333 - val_loss: 0.0000e+00\n",
      "Epoch 13/30\n",
      "\u001b[1m1/1\u001b[0m \u001b[32m━━━━━━━━━━━━━━━━━━━━\u001b[0m\u001b[37m\u001b[0m \u001b[1m0s\u001b[0m 117ms/step - accuracy: 0.5385 - loss: 0.0000e+00 - val_accuracy: 0.3333 - val_loss: 0.0000e+00\n",
      "Epoch 14/30\n",
      "\u001b[1m1/1\u001b[0m \u001b[32m━━━━━━━━━━━━━━━━━━━━\u001b[0m\u001b[37m\u001b[0m \u001b[1m0s\u001b[0m 121ms/step - accuracy: 0.5385 - loss: 0.0000e+00 - val_accuracy: 0.3333 - val_loss: 0.0000e+00\n",
      "Epoch 15/30\n",
      "\u001b[1m1/1\u001b[0m \u001b[32m━━━━━━━━━━━━━━━━━━━━\u001b[0m\u001b[37m\u001b[0m \u001b[1m0s\u001b[0m 119ms/step - accuracy: 0.5385 - loss: 0.0000e+00 - val_accuracy: 0.3333 - val_loss: 0.0000e+00\n",
      "Epoch 16/30\n",
      "\u001b[1m1/1\u001b[0m \u001b[32m━━━━━━━━━━━━━━━━━━━━\u001b[0m\u001b[37m\u001b[0m \u001b[1m0s\u001b[0m 120ms/step - accuracy: 0.5385 - loss: 0.0000e+00 - val_accuracy: 0.3333 - val_loss: 0.0000e+00\n",
      "Epoch 17/30\n",
      "\u001b[1m1/1\u001b[0m \u001b[32m━━━━━━━━━━━━━━━━━━━━\u001b[0m\u001b[37m\u001b[0m \u001b[1m0s\u001b[0m 114ms/step - accuracy: 0.5385 - loss: 0.0000e+00 - val_accuracy: 0.3333 - val_loss: 0.0000e+00\n",
      "Epoch 18/30\n",
      "\u001b[1m1/1\u001b[0m \u001b[32m━━━━━━━━━━━━━━━━━━━━\u001b[0m\u001b[37m\u001b[0m \u001b[1m0s\u001b[0m 119ms/step - accuracy: 0.5385 - loss: 0.0000e+00 - val_accuracy: 0.3333 - val_loss: 0.0000e+00\n",
      "Epoch 19/30\n",
      "\u001b[1m1/1\u001b[0m \u001b[32m━━━━━━━━━━━━━━━━━━━━\u001b[0m\u001b[37m\u001b[0m \u001b[1m0s\u001b[0m 119ms/step - accuracy: 0.5385 - loss: 0.0000e+00 - val_accuracy: 0.3333 - val_loss: 0.0000e+00\n",
      "Epoch 20/30\n",
      "\u001b[1m1/1\u001b[0m \u001b[32m━━━━━━━━━━━━━━━━━━━━\u001b[0m\u001b[37m\u001b[0m \u001b[1m0s\u001b[0m 122ms/step - accuracy: 0.5385 - loss: 0.0000e+00 - val_accuracy: 0.3333 - val_loss: 0.0000e+00\n",
      "Epoch 21/30\n",
      "\u001b[1m1/1\u001b[0m \u001b[32m━━━━━━━━━━━━━━━━━━━━\u001b[0m\u001b[37m\u001b[0m \u001b[1m0s\u001b[0m 114ms/step - accuracy: 0.5385 - loss: 0.0000e+00 - val_accuracy: 0.3333 - val_loss: 0.0000e+00\n",
      "Epoch 22/30\n",
      "\u001b[1m1/1\u001b[0m \u001b[32m━━━━━━━━━━━━━━━━━━━━\u001b[0m\u001b[37m\u001b[0m \u001b[1m0s\u001b[0m 119ms/step - accuracy: 0.5385 - loss: 0.0000e+00 - val_accuracy: 0.3333 - val_loss: 0.0000e+00\n",
      "Epoch 23/30\n",
      "\u001b[1m1/1\u001b[0m \u001b[32m━━━━━━━━━━━━━━━━━━━━\u001b[0m\u001b[37m\u001b[0m \u001b[1m0s\u001b[0m 130ms/step - accuracy: 0.5385 - loss: 0.0000e+00 - val_accuracy: 0.3333 - val_loss: 0.0000e+00\n",
      "Epoch 24/30\n",
      "\u001b[1m1/1\u001b[0m \u001b[32m━━━━━━━━━━━━━━━━━━━━\u001b[0m\u001b[37m\u001b[0m \u001b[1m0s\u001b[0m 119ms/step - accuracy: 0.5385 - loss: 0.0000e+00 - val_accuracy: 0.3333 - val_loss: 0.0000e+00\n",
      "Epoch 25/30\n",
      "\u001b[1m1/1\u001b[0m \u001b[32m━━━━━━━━━━━━━━━━━━━━\u001b[0m\u001b[37m\u001b[0m \u001b[1m0s\u001b[0m 114ms/step - accuracy: 0.5385 - loss: 0.0000e+00 - val_accuracy: 0.3333 - val_loss: 0.0000e+00\n",
      "Epoch 26/30\n",
      "\u001b[1m1/1\u001b[0m \u001b[32m━━━━━━━━━━━━━━━━━━━━\u001b[0m\u001b[37m\u001b[0m \u001b[1m0s\u001b[0m 117ms/step - accuracy: 0.5385 - loss: 0.0000e+00 - val_accuracy: 0.3333 - val_loss: 0.0000e+00\n",
      "Epoch 27/30\n",
      "\u001b[1m1/1\u001b[0m \u001b[32m━━━━━━━━━━━━━━━━━━━━\u001b[0m\u001b[37m\u001b[0m \u001b[1m0s\u001b[0m 143ms/step - accuracy: 0.5385 - loss: 0.0000e+00 - val_accuracy: 0.3333 - val_loss: 0.0000e+00\n",
      "Epoch 28/30\n",
      "\u001b[1m1/1\u001b[0m \u001b[32m━━━━━━━━━━━━━━━━━━━━\u001b[0m\u001b[37m\u001b[0m \u001b[1m0s\u001b[0m 135ms/step - accuracy: 0.5385 - loss: 0.0000e+00 - val_accuracy: 0.3333 - val_loss: 0.0000e+00\n",
      "Epoch 29/30\n",
      "\u001b[1m1/1\u001b[0m \u001b[32m━━━━━━━━━━━━━━━━━━━━\u001b[0m\u001b[37m\u001b[0m \u001b[1m0s\u001b[0m 122ms/step - accuracy: 0.5385 - loss: 0.0000e+00 - val_accuracy: 0.3333 - val_loss: 0.0000e+00\n",
      "Epoch 30/30\n",
      "\u001b[1m1/1\u001b[0m \u001b[32m━━━━━━━━━━━━━━━━━━━━\u001b[0m\u001b[37m\u001b[0m \u001b[1m0s\u001b[0m 123ms/step - accuracy: 0.5385 - loss: 0.0000e+00 - val_accuracy: 0.3333 - val_loss: 0.0000e+00\n"
     ]
    }
   ],
   "source": [
    "history = model.fit(X_train, y_train, epochs=30, batch_size=32, validation_data=(X_val, y_val))"
   ]
  },
  {
   "cell_type": "code",
   "execution_count": null,
   "id": "ebbe8773",
   "metadata": {},
   "outputs": [
    {
     "name": "stdout",
     "output_type": "stream",
     "text": [
      "\u001b[1m1/1\u001b[0m \u001b[32m━━━━━━━━━━━━━━━━━━━━\u001b[0m\u001b[37m\u001b[0m \u001b[1m0s\u001b[0m 34ms/step - accuracy: 0.6667 - loss: 0.0000e+00\n",
      "Test accuracy: 0.6666666865348816\n"
     ]
    }
   ],
   "source": [
    "test_loss, test_acc = model.evaluate(X_test, y_test)\n",
    "print(\"Test accuracy:\", test_acc)"
   ]
  }
 ],
 "metadata": {
  "kernelspec": {
   "display_name": "myenv",
   "language": "python",
   "name": "python3"
  },
  "language_info": {
   "codemirror_mode": {
    "name": "ipython",
    "version": 3
   },
   "file_extension": ".py",
   "mimetype": "text/x-python",
   "name": "python",
   "nbconvert_exporter": "python",
   "pygments_lexer": "ipython3",
   "version": "3.10.11"
  }
 },
 "nbformat": 4,
 "nbformat_minor": 5
}
