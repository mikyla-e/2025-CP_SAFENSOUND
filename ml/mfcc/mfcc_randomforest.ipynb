{
 "cells": [
  {
   "cell_type": "code",
   "execution_count": 1,
   "id": "7a267d97",
   "metadata": {},
   "outputs": [],
   "source": [
    "import numpy as np\n",
    "import pandas as pd\n",
    "import matplotlib.pyplot as plt\n",
    "from matplotlib.pylab import normal\n",
    "import seaborn as sns\n",
    "import os\n",
    "\n",
    "import joblib\n",
    "\n",
    "import librosa as lb\n",
    "import librosa.display as ld\n",
    "import tensorflow as tf\n",
    "from tensorflow import keras\n",
    "from tensorflow.keras import layers, models\n",
    "from tensorflow.keras.utils import to_categorical\n",
    "\n",
    "import sounddevice as sd\n",
    "\n",
    "from sklearn.model_selection import train_test_split, GridSearchCV, cross_val_score, StratifiedKFold\n",
    "from sklearn.ensemble import RandomForestClassifier\n",
    "from sklearn.metrics import classification_report, accuracy_score, confusion_matrix"
   ]
  },
  {
   "cell_type": "code",
   "execution_count": 2,
   "id": "af31bbd5",
   "metadata": {},
   "outputs": [],
   "source": [
    "# to be changed to new dataset folder with three classes: emergency, non-emergency, alarming\n",
    "EMERGENCY_PATH = os.path.join(\"..\", \"datasets\", \"emergency\")\n",
    "ALARMING_PATH = os.path.join(\"..\", \"datasets\", \"alarming\")\n",
    "NORMAL_PATH = os.path.join(\"..\", \"datasets\", \"non-emergency\")\n",
    "\n",
    "\n",
    "def load_audio_files(directory, filename):\n",
    "    if not os.path.exists(directory):\n",
    "        raise FileNotFoundError(f\"Directory {directory} does not exist.\")\n",
    "\n",
    "    if filename.endswith('.wav'):\n",
    "        file_path = os.path.join(directory, filename)\n",
    "        try:\n",
    "            wav, sr = lb.load(file_path, sr=16000, mono=True)\n",
    "            ##wav = tf.convert_to_tensor(wav, dtype=tf.float32)\n",
    "        except Exception as e:\n",
    "            print(f\"Error loading {file_path}: {e}\")\n",
    "    return wav, sr\n",
    "\n",
    "#get audio real-time\n",
    "## def record_audio(duration=5, sample_rate=16000):"
   ]
  },
  {
   "cell_type": "code",
   "execution_count": 3,
   "id": "4ab8f530",
   "metadata": {},
   "outputs": [],
   "source": [
    "def extract_features(audio, sample_rate, max_len=160):\n",
    "    mfcc = lb.feature.mfcc(y=audio, sr=sample_rate, n_mfcc=20, hop_length=512)\n",
    "    \n",
    "    zcr = lb.feature.zero_crossing_rate(audio)\n",
    "    spectral_centroid = lb.feature.spectral_centroid(y=audio, sr=sample_rate)\n",
    "    spectral_rolloff = lb.feature.spectral_rolloff(y=audio, sr=sample_rate)\n",
    "    rms = lb.feature.rms(y=audio)\n",
    "    \n",
    "    features = [mfcc, spectral_centroid, spectral_rolloff, zcr, rms]\n",
    "    extracted_features = []\n",
    "\n",
    "    for feature in features:\n",
    "        if feature.shape[1] < max_len:\n",
    "            feature = np.pad(feature, ((0,0),(0, max_len - feature.shape[1])), mode='constant')\n",
    "        else:\n",
    "            feature = feature[:, :max_len]\n",
    "        \n",
    "        feature_stat = [\n",
    "            np.mean(feature, axis=1),\n",
    "            np.std(feature, axis=1),\n",
    "            np.min(feature, axis=1),\n",
    "            np.max(feature, axis=1)\n",
    "        ]\n",
    "        \n",
    "        for stat in feature_stat:\n",
    "            extracted_features.append(stat.flatten())\n",
    "\n",
    "    return np.concatenate(extracted_features)"
   ]
  },
  {
   "cell_type": "code",
   "execution_count": 4,
   "id": "e00df13f",
   "metadata": {},
   "outputs": [],
   "source": [
    "def augment_audio(audio, sample_rate):\n",
    "    augmented = [audio]\n",
    "\n",
    "    audio_stretched = lb.effects.time_stretch(audio, rate=0.8)\n",
    "    augmented.append(audio_stretched)\n",
    "\n",
    "    noise = np.random.normal(0, 0.003, audio.shape)\n",
    "    audio_noise = audio + noise\n",
    "    augmented.append(audio_noise)\n",
    "    \n",
    "    audio_high_pitch = lb.effects.pitch_shift(audio, sr=sample_rate, n_steps=2)\n",
    "    audio_low_pitch = lb.effects.pitch_shift(audio, sr=sample_rate, n_steps=-2)\n",
    "    audio_pitch = np.concatenate((audio_high_pitch, audio_low_pitch))\n",
    "    augmented.append(audio_pitch)\n",
    "\n",
    "    noise_bg = np.random.normal(0, 0.001, audio.shape)\n",
    "    audio_bg = audio + noise_bg\n",
    "    augmented.append(audio_bg)\n",
    "\n",
    "    audio_quiet = audio*0.7\n",
    "    audio_loud = audio*1.3\n",
    "    audio_volume = np.concatenate((audio_quiet, audio_loud))\n",
    "    augmented.append(audio_volume)\n",
    "\n",
    "    return augmented"
   ]
  },
  {
   "cell_type": "code",
   "execution_count": 5,
   "id": "8a4ff200",
   "metadata": {},
   "outputs": [],
   "source": [
    "X = []\n",
    "y = []\n",
    "# to be changed with three classes: emergency, non-emergency, alarming\n",
    "labels = {\"emergency\": 2, \"alarming\": 1, \"non-emergency\": 0}\n",
    "\n",
    "    # emergency_labels = {\"crying sound\", \"door noise\", \"glassbreak sounds\", \"gunshots\", \"screaming sound\"}\n",
    "    # non_emergency_labels = {\"clap\", \"door sound\", \"fireworks\", \"object noise\", \"toilet noise\"}\n",
    "\n",
    "\n",
    "for label, idx in labels.items():\n",
    "    \n",
    "    main_path = EMERGENCY_PATH if label == \"emergency\" else ALARMING_PATH if label == \"alarming\" else NORMAL_PATH if label == \"non-emergency\" else None\n",
    "    if main_path is None:\n",
    "        print(f\"Warning: No valid path for label {label}. Skipping...\")\n",
    "        continue\n",
    "\n",
    "    # subfolders =  emergency_labels if label == \"emergency\" else non_emergency_labels\n",
    "            \n",
    "    # for subfolder in subfolders:\n",
    "    folder = f\"{main_path}\"\n",
    "\n",
    "    if not os.path.exists(folder):\n",
    "        print(f\"Warning: Directory {folder} does not exist. Skipping...\")\n",
    "        continue\n",
    "\n",
    "    for file in os.listdir(folder):\n",
    "        if file.endswith(\".wav\"):\n",
    "            try:\n",
    "                wav, sr = load_audio_files(folder, file)\n",
    "                augmented_audio = augment_audio(wav, sr)\n",
    "                for augmented in augmented_audio:\n",
    "                    features = extract_features(augmented, sr)\n",
    "                    X.append(features)\n",
    "                    y.append(idx)\n",
    "\n",
    "            except Exception as e:\n",
    "                print(f\"Error processing {file} in {folder}: {e}\")\n",
    "                continue\n",
    "\n",
    "X = np.array(X)\n",
    "y = np.array(y)"
   ]
  },
  {
   "cell_type": "code",
   "execution_count": 6,
   "id": "67bbf718",
   "metadata": {},
   "outputs": [],
   "source": [
    "try: \n",
    "    X_train, X_temp, y_train, y_temp = train_test_split(X, y, test_size=0.3, random_state=42, stratify=y)\n",
    "    X_val, X_test, y_val, y_test = train_test_split(X_temp, y_temp, test_size=0.5, random_state=42, stratify=y_temp)\n",
    "except ValueError as ve:\n",
    "    print(f\"Error during train-test split: {ve}\")\n",
    "    print(f\"X shape: {X.shape}, y shape: {y.shape}\")\n",
    "    unique, counts = np.unique(y, return_counts=True)\n",
    "    print(f\"Class distribution in y: {dict(zip(unique, counts))}\")\n",
    "    raise ve"
   ]
  },
  {
   "cell_type": "code",
   "execution_count": 7,
   "id": "4af3b33c",
   "metadata": {},
   "outputs": [
    {
     "name": "stdout",
     "output_type": "stream",
     "text": [
      "Fitting 5 folds for each of 324 candidates, totalling 1620 fits\n",
      "Best Hyperparameters: {'max_depth': None, 'max_features': 'sqrt', 'min_samples_leaf': 1, 'min_samples_split': 5, 'n_estimators': 200}\n"
     ]
    }
   ],
   "source": [
    "param_grid = {\n",
    "    'n_estimators': [50, 100, 200],\n",
    "    'max_depth': [None, 10, 20, 30],\n",
    "    'min_samples_split': [2, 5, 10],\n",
    "    'min_samples_leaf': [1, 2, 4],\n",
    "    'max_features': ['sqrt', 'log2', None]\n",
    "}\n",
    "\n",
    "rfc = RandomForestClassifier(n_estimators=100, random_state=42, class_weight='balanced', oob_score=True)\n",
    "grid_search = GridSearchCV(estimator=rfc, param_grid=param_grid, cv=5, n_jobs=-1, verbose=2, scoring='f1_macro')\n",
    "grid_search.fit(X_train, y_train)\n",
    "\n",
    "best_rfc = grid_search.best_estimator_\n",
    "print(\"Best Hyperparameters:\", grid_search.best_params_)"
   ]
  },
  {
   "cell_type": "code",
   "execution_count": 8,
   "id": "1795c829",
   "metadata": {},
   "outputs": [
    {
     "name": "stdout",
     "output_type": "stream",
     "text": [
      "Cross-validation F1 Macro scores: [0.94954895 0.937919   0.9518691  0.95489894 0.96123302]\n",
      "Mean CV F1 Macro score: 0.9510938032934197\n"
     ]
    },
    {
     "data": {
      "image/png": "[encoded data removed]",
      "text/plain": [
       "<Figure size 800x600 with 2 Axes>"
      ]
     },
     "metadata": {},
     "output_type": "display_data"
    }
   ],
   "source": [
    "cv = StratifiedKFold(n_splits=5, shuffle=True, random_state=42)\n",
    "cv_scores = cross_val_score(best_rfc, X_train, y_train, cv=cv, scoring='f1_macro')\n",
    "print(f\"Cross-validation F1 Macro scores: {cv_scores}\")\n",
    "print(f\"Mean CV F1 Macro score: {np.mean(cv_scores)}\")\n",
    "\n",
    "y_pred = best_rfc.predict(X_test)\n",
    "cm = confusion_matrix(y_test, y_pred)\n",
    "plt.figure(figsize=(8, 6))\n",
    "sns.heatmap(cm, annot=True, fmt='d', cmap='Blues', \n",
    "            xticklabels=['non-emergency', 'alarming', 'emergency'],\n",
    "            yticklabels=['non-emergency', 'alarming', 'emergency'])\n",
    "plt.title('Confusion Matrix')\n",
    "plt.ylabel('True Label')\n",
    "plt.xlabel('Predicted Label')\n",
    "plt.show()\n",
    "\n",
    "# y_pred = rfc.predict_proba(X_temp)\n",
    "\n",
    "# threshold = 0.3\n",
    "# y_pred = (y_pred[:, 1] >= threshold).astype(int)"
   ]
  },
  {
   "cell_type": "code",
   "execution_count": 9,
   "id": "6c066f03",
   "metadata": {},
   "outputs": [
    {
     "name": "stdout",
     "output_type": "stream",
     "text": [
      "Accuracy: 95.29%\n",
      "Classification Report:                precision    recall  f1-score   support\n",
      "\n",
      "non-emergency       0.91      0.97      0.94       243\n",
      "     alarming       0.96      0.90      0.93       102\n",
      "    emergency       0.99      0.96      0.97       355\n",
      "\n",
      "     accuracy                           0.95       700\n",
      "    macro avg       0.95      0.94      0.95       700\n",
      " weighted avg       0.95      0.95      0.95       700\n",
      "\n"
     ]
    }
   ],
   "source": [
    "accuracy = accuracy_score(y_test, y_pred)\n",
    "class_report = classification_report(y_test, y_pred, target_names=[\"non-emergency\", \"alarming\", \"emergency\"])\n",
    "\n",
    "print(f\"Accuracy: {accuracy*100:.2f}%\")\n",
    "print(\"Classification Report:\", class_report)"
   ]
  },
  {
   "cell_type": "code",
   "execution_count": 10,
   "id": "eb4a145f",
   "metadata": {},
   "outputs": [
    {
     "name": "stdout",
     "output_type": "stream",
     "text": [
      "Prediction for glassbreak_2.wav: alarming\n"
     ]
    }
   ],
   "source": [
    "sample_file = \"glassbreak_2.wav\"\n",
    "\n",
    "wav, sr = load_audio_files(ALARMING_PATH, sample_file)\n",
    "augmented_audio = augment_audio(wav, sr)\n",
    "for augmented in augmented_audio:\n",
    "    features = extract_features(augmented, sr)\n",
    "\n",
    "prediction = best_rfc.predict(features.reshape(1, -1))\n",
    "# prediction = rfc.predict_proba(sample.reshape(1, -1))\n",
    "# threshold = 0.3\n",
    "# prediction = (prediction[:, 1] >= threshold).astype(int)\n",
    "\n",
    "print(f\"Prediction for {sample_file}: {'emergency' if prediction[0] == 2 else 'alarming' if prediction[0] == 1 else 'non-emergency'}\")"
   ]
  },
  {
   "cell_type": "code",
   "execution_count": 11,
   "id": "34cff856",
   "metadata": {},
   "outputs": [
    {
     "data": {
      "text/plain": [
       "['mfcc_rf_model.joblib']"
      ]
     },
     "execution_count": 11,
     "metadata": {},
     "output_type": "execute_result"
    }
   ],
   "source": [
    "joblib.dump(best_rfc, 'mfcc_rf_model.joblib')"
   ]
  }
 ],
 "metadata": {
  "kernelspec": {
   "display_name": "myenv",
   "language": "python",
   "name": "python3"
  },
  "language_info": {
   "codemirror_mode": {
    "name": "ipython",
    "version": 3
   },
   "file_extension": ".py",
   "mimetype": "text/x-python",
   "name": "python",
   "nbconvert_exporter": "python",
   "pygments_lexer": "ipython3",
   "version": "3.10.11"
  }
 },
 "nbformat": 4,
 "nbformat_minor": 5
}
