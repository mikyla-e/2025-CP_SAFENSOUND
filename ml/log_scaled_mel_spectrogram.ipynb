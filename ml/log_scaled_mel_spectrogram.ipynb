{
 "cells": [
  {
   "cell_type": "markdown",
   "id": "12df34af",
   "metadata": {},
   "source": [
    "# SafeNSound: Initial Log Scaled Mel-Spectrogram Development"
   ]
  },
  {
   "cell_type": "markdown",
   "id": "bf424c71",
   "metadata": {},
   "source": [
    "## 1. Importing Libraries"
   ]
  },
  {
   "cell_type": "code",
   "execution_count": null,
   "id": "43e81181",
   "metadata": {},
   "outputs": [],
   "source": [
    "import os\n",
    "import numpy as np\n",
    "import pandas as pd\n",
    "import matplotlib.pyplot as plt\n",
    "import seaborn as sns\n",
    "import librosa as lb\n",
    "import librosa.display as ld\n",
    "import tensorflow as tf\n",
    "from tensorflow import keras\n",
    "from tensorflow.keras import layers, models\n",
    "import sounddevice as sd\n",
    "from sklearn.model_selection import train_test_split"
   ]
  },
  {
   "cell_type": "markdown",
   "id": "24d97486",
   "metadata": {},
   "source": [
    "## 2. Datasets"
   ]
  },
  {
   "cell_type": "code",
   "execution_count": 2,
   "id": "e98f3778",
   "metadata": {},
   "outputs": [],
   "source": [
    "PATH = \"datasets/placeholder/\"\n",
    "EMERGENCY_PATH = os.path.join(PATH, \"emergency/\")\n",
    "NORMAL_PATH = os.path.join(PATH, \"normal/\")\n",
    "\n",
    "def load_audio_files(directory, filename):\n",
    "    if not os.path.exists(directory):\n",
    "        raise FileNotFoundError(f\"Directory {directory} does not exist.\")\n",
    "\n",
    "    if filename.endswith('.wav'):\n",
    "        file_path = os.path.join(directory, filename)\n",
    "        try:\n",
    "            wav, sr = lb.load(file_path, sr=16000, mono=True)\n",
    "            ##wav = tf.convert_to_tensor(wav, dtype=tf.float32)\n",
    "        except Exception as e:\n",
    "            print(f\"Error loading {file_path}: {e}\")\n",
    "    return wav, sr\n",
    "\n",
    "#get audio real-time\n",
    "## def record_audio(duration=5, sample_rate=16000):"
   ]
  },
  {
   "cell_type": "markdown",
   "id": "720a6a54",
   "metadata": {},
   "source": [
    "## 3. Creating Mel Spectrogram & converting to Log Scale"
   ]
  },
  {
   "cell_type": "code",
   "execution_count": 14,
   "id": "e613796f",
   "metadata": {},
   "outputs": [],
   "source": [
    "def log_scaled_melspectrogram(audio, sample_rate, n_fft=1024, hop_length=512, n_mels=128, max_len=160):\n",
    "    S = lb.feature.melspectrogram(y=audio, sr=sample_rate, n_fft=n_fft, hop_length=hop_length, n_mels=n_mels)\n",
    "\n",
    "    if S.shape[1] < max_len:\n",
    "        S = np.pad(S, ((0,0),(0, max_len - S.shape[1])), mode='constant')\n",
    "    else:\n",
    "        S = S[:, :max_len]\n",
    "\n",
    "    S_dB = lb.power_to_db(S, ref=np.max)\n",
    "    \n",
    "    S_dB = S_dB[..., np.newaxis]\n",
    "    \n",
    "    return S_dB"
   ]
  },
  {
   "cell_type": "markdown",
   "id": "23f48165",
   "metadata": {},
   "source": [
    "## 4. Display Log-scaled Mel Spectrogram"
   ]
  },
  {
   "cell_type": "code",
   "execution_count": 15,
   "id": "57d29d37",
   "metadata": {},
   "outputs": [],
   "source": [
    "X = []\n",
    "y = []\n",
    "labels = {\"emergency\": 1, \"normal\": 0}\n",
    "\n",
    "for label, idx in labels.items():\n",
    "    folder = f\"{PATH}{label}\"\n",
    "    for file in os.listdir(folder):\n",
    "        if file.endswith(\".wav\"):\n",
    "            wav, sr = load_audio_files(folder, file)\n",
    "            S_dB = log_scaled_melspectrogram(wav, sr)\n",
    "\n",
    "            # try:\n",
    "            #     plt.figure(figsize=(10, 4))\n",
    "            #     lb.display.specshow(S_dB, sr=sr, hop_length=512, x_axis='time', y_axis='mel')\n",
    "            #     plt.colorbar(format=\"%+2.0f dB\")\n",
    "            #     plt.title(\"Log-scaled Mel Spectrogram of \" + file)\n",
    "            #     plt.tight_layout()\n",
    "            #     plt.show()\n",
    "            # except Exception as e:\n",
    "            #     print(f\"Error displaying MFCC for {file}: {e}\")\n",
    "            #     continue\n",
    "\n",
    "            X.append(S_dB)\n",
    "            y.append(idx)\n",
    "\n",
    "X = np.array(X)\n",
    "y = np.array(y)"
   ]
  },
  {
   "cell_type": "markdown",
   "id": "2df45ac7",
   "metadata": {},
   "source": [
    "## 5. Split"
   ]
  },
  {
   "cell_type": "code",
   "execution_count": 20,
   "id": "f29a0548",
   "metadata": {},
   "outputs": [],
   "source": [
    "X_train, X_temp, y_train, y_temp = train_test_split(X, y, test_size=0.3, random_state=42, stratify=y)\n",
    "\n",
    "X_val, X_test, y_val, y_test = train_test_split(X_temp, y_temp, test_size=0.5, random_state=42, stratify=y_temp)"
   ]
  },
  {
   "cell_type": "markdown",
   "id": "4df6f127",
   "metadata": {},
   "source": [
    "## 6. CNN & Train"
   ]
  },
  {
   "cell_type": "code",
   "execution_count": 21,
   "id": "4300bea2",
   "metadata": {},
   "outputs": [],
   "source": [
    "def build_cnn(input_shape, num_classes=2):\n",
    "    model = models.Sequential([\n",
    "        # Conv Block 1\n",
    "        layers.Conv2D(32, (3,3), activation='relu', padding='same', input_shape=input_shape),\n",
    "        layers.BatchNormalization(),\n",
    "        layers.MaxPooling2D((2,2)),\n",
    "        layers.Dropout(0.3),\n",
    "\n",
    "        # Conv Block 2\n",
    "        layers.Conv2D(64, (3,3), activation='relu', padding='same'),\n",
    "        layers.BatchNormalization(),\n",
    "        layers.MaxPooling2D((2,2)),\n",
    "        layers.Dropout(0.3),\n",
    "\n",
    "        # Conv Block 3\n",
    "        layers.Conv2D(128, (3,3), activation='relu', padding='same'),\n",
    "        layers.BatchNormalization(),\n",
    "        layers.MaxPooling2D((2,2)),\n",
    "        layers.Dropout(0.3),\n",
    "\n",
    "        # Flatten + Dense\n",
    "        layers.Flatten(),\n",
    "        layers.Dense(128, activation='relu'),\n",
    "        layers.Dropout(0.4),\n",
    "        layers.Dense(num_classes, activation='softmax')\n",
    "    ])\n",
    "\n",
    "    model.compile(optimizer='adam',\n",
    "                  loss='sparse_categorical_crossentropy',\n",
    "                  metrics=['accuracy'])\n",
    "    \n",
    "    return model"
   ]
  },
  {
   "cell_type": "code",
   "execution_count": 22,
   "id": "1cd08800",
   "metadata": {},
   "outputs": [
    {
     "name": "stderr",
     "output_type": "stream",
     "text": [
      "c:\\Users\\Acer\\Documents\\GitHub\\SafeNSound-An-IoT-Based-Distress-Signals-Detection-for-Semi-private-Rooms-using-Sound-Sensor\\myenv\\lib\\site-packages\\keras\\src\\layers\\convolutional\\base_conv.py:113: UserWarning: Do not pass an `input_shape`/`input_dim` argument to a layer. When using Sequential models, prefer using an `Input(shape)` object as the first layer in the model instead.\n",
      "  super().__init__(activity_regularizer=activity_regularizer, **kwargs)\n"
     ]
    },
    {
     "name": "stdout",
     "output_type": "stream",
     "text": [
      "Epoch 1/20\n",
      "\u001b[1m1/1\u001b[0m \u001b[32m━━━━━━━━━━━━━━━━━━━━\u001b[0m\u001b[37m\u001b[0m \u001b[1m5s\u001b[0m 5s/step - accuracy: 0.3846 - loss: 2.6720 - val_accuracy: 0.3333 - val_loss: 27.5583\n",
      "Epoch 2/20\n",
      "\u001b[1m1/1\u001b[0m \u001b[32m━━━━━━━━━━━━━━━━━━━━\u001b[0m\u001b[37m\u001b[0m \u001b[1m0s\u001b[0m 345ms/step - accuracy: 0.9231 - loss: 0.1063 - val_accuracy: 0.3333 - val_loss: 25.4252\n",
      "Epoch 3/20\n",
      "\u001b[1m1/1\u001b[0m \u001b[32m━━━━━━━━━━━━━━━━━━━━\u001b[0m\u001b[37m\u001b[0m \u001b[1m0s\u001b[0m 336ms/step - accuracy: 1.0000 - loss: 0.0000e+00 - val_accuracy: 0.3333 - val_loss: 23.8327\n",
      "Epoch 4/20\n",
      "\u001b[1m1/1\u001b[0m \u001b[32m━━━━━━━━━━━━━━━━━━━━\u001b[0m\u001b[37m\u001b[0m \u001b[1m0s\u001b[0m 391ms/step - accuracy: 1.0000 - loss: 0.0000e+00 - val_accuracy: 0.3333 - val_loss: 21.8646\n",
      "Epoch 5/20\n",
      "\u001b[1m1/1\u001b[0m \u001b[32m━━━━━━━━━━━━━━━━━━━━\u001b[0m\u001b[37m\u001b[0m \u001b[1m0s\u001b[0m 335ms/step - accuracy: 1.0000 - loss: 0.0000e+00 - val_accuracy: 0.3333 - val_loss: 19.8160\n",
      "Epoch 6/20\n",
      "\u001b[1m1/1\u001b[0m \u001b[32m━━━━━━━━━━━━━━━━━━━━\u001b[0m\u001b[37m\u001b[0m \u001b[1m0s\u001b[0m 360ms/step - accuracy: 1.0000 - loss: 0.0000e+00 - val_accuracy: 0.3333 - val_loss: 17.9131\n",
      "Epoch 7/20\n",
      "\u001b[1m1/1\u001b[0m \u001b[32m━━━━━━━━━━━━━━━━━━━━\u001b[0m\u001b[37m\u001b[0m \u001b[1m0s\u001b[0m 324ms/step - accuracy: 1.0000 - loss: 0.0000e+00 - val_accuracy: 0.3333 - val_loss: 16.2293\n",
      "Epoch 8/20\n",
      "\u001b[1m1/1\u001b[0m \u001b[32m━━━━━━━━━━━━━━━━━━━━\u001b[0m\u001b[37m\u001b[0m \u001b[1m0s\u001b[0m 359ms/step - accuracy: 1.0000 - loss: 0.0000e+00 - val_accuracy: 0.3333 - val_loss: 14.7531\n",
      "Epoch 9/20\n",
      "\u001b[1m1/1\u001b[0m \u001b[32m━━━━━━━━━━━━━━━━━━━━\u001b[0m\u001b[37m\u001b[0m \u001b[1m0s\u001b[0m 337ms/step - accuracy: 1.0000 - loss: 0.0000e+00 - val_accuracy: 0.3333 - val_loss: 13.4411\n",
      "Epoch 10/20\n",
      "\u001b[1m1/1\u001b[0m \u001b[32m━━━━━━━━━━━━━━━━━━━━\u001b[0m\u001b[37m\u001b[0m \u001b[1m0s\u001b[0m 343ms/step - accuracy: 1.0000 - loss: 0.0000e+00 - val_accuracy: 0.3333 - val_loss: 12.2066\n",
      "Epoch 11/20\n",
      "\u001b[1m1/1\u001b[0m \u001b[32m━━━━━━━━━━━━━━━━━━━━\u001b[0m\u001b[37m\u001b[0m \u001b[1m0s\u001b[0m 342ms/step - accuracy: 1.0000 - loss: 0.0000e+00 - val_accuracy: 0.3333 - val_loss: 11.1087\n",
      "Epoch 12/20\n",
      "\u001b[1m1/1\u001b[0m \u001b[32m━━━━━━━━━━━━━━━━━━━━\u001b[0m\u001b[37m\u001b[0m \u001b[1m0s\u001b[0m 312ms/step - accuracy: 1.0000 - loss: 0.0000e+00 - val_accuracy: 0.3333 - val_loss: 10.1207\n",
      "Epoch 13/20\n",
      "\u001b[1m1/1\u001b[0m \u001b[32m━━━━━━━━━━━━━━━━━━━━\u001b[0m\u001b[37m\u001b[0m \u001b[1m0s\u001b[0m 308ms/step - accuracy: 1.0000 - loss: 0.0000e+00 - val_accuracy: 0.3333 - val_loss: 9.1606\n",
      "Epoch 14/20\n",
      "\u001b[1m1/1\u001b[0m \u001b[32m━━━━━━━━━━━━━━━━━━━━\u001b[0m\u001b[37m\u001b[0m \u001b[1m0s\u001b[0m 324ms/step - accuracy: 1.0000 - loss: 0.0000e+00 - val_accuracy: 0.3333 - val_loss: 8.3108\n",
      "Epoch 15/20\n",
      "\u001b[1m1/1\u001b[0m \u001b[32m━━━━━━━━━━━━━━━━━━━━\u001b[0m\u001b[37m\u001b[0m \u001b[1m0s\u001b[0m 308ms/step - accuracy: 1.0000 - loss: 0.0000e+00 - val_accuracy: 0.3333 - val_loss: 7.5864\n",
      "Epoch 16/20\n",
      "\u001b[1m1/1\u001b[0m \u001b[32m━━━━━━━━━━━━━━━━━━━━\u001b[0m\u001b[37m\u001b[0m \u001b[1m0s\u001b[0m 323ms/step - accuracy: 1.0000 - loss: 0.0000e+00 - val_accuracy: 0.3333 - val_loss: 6.9529\n",
      "Epoch 17/20\n",
      "\u001b[1m1/1\u001b[0m \u001b[32m━━━━━━━━━━━━━━━━━━━━\u001b[0m\u001b[37m\u001b[0m \u001b[1m0s\u001b[0m 383ms/step - accuracy: 1.0000 - loss: 0.0000e+00 - val_accuracy: 0.3333 - val_loss: 6.3936\n",
      "Epoch 18/20\n",
      "\u001b[1m1/1\u001b[0m \u001b[32m━━━━━━━━━━━━━━━━━━━━\u001b[0m\u001b[37m\u001b[0m \u001b[1m0s\u001b[0m 349ms/step - accuracy: 1.0000 - loss: 0.0000e+00 - val_accuracy: 0.3333 - val_loss: 5.8908\n",
      "Epoch 19/20\n",
      "\u001b[1m1/1\u001b[0m \u001b[32m━━━━━━━━━━━━━━━━━━━━\u001b[0m\u001b[37m\u001b[0m \u001b[1m0s\u001b[0m 354ms/step - accuracy: 1.0000 - loss: 0.0000e+00 - val_accuracy: 0.3333 - val_loss: 5.4302\n",
      "Epoch 20/20\n",
      "\u001b[1m1/1\u001b[0m \u001b[32m━━━━━━━━━━━━━━━━━━━━\u001b[0m\u001b[37m\u001b[0m \u001b[1m0s\u001b[0m 341ms/step - accuracy: 1.0000 - loss: 0.0000e+00 - val_accuracy: 0.3333 - val_loss: 5.0334\n"
     ]
    }
   ],
   "source": [
    "input_shape = (X.shape[1], X.shape[2], X.shape[3])\n",
    "\n",
    "model = build_cnn(input_shape, num_classes=2)\n",
    "\n",
    "history = model.fit(X_train, y_train, epochs=20, batch_size=32, validation_data=(X_val, y_val))"
   ]
  },
  {
   "cell_type": "code",
   "execution_count": 23,
   "id": "db6220ad",
   "metadata": {},
   "outputs": [
    {
     "name": "stdout",
     "output_type": "stream",
     "text": [
      "\u001b[1m1/1\u001b[0m \u001b[32m━━━━━━━━━━━━━━━━━━━━\u001b[0m\u001b[37m\u001b[0m \u001b[1m0s\u001b[0m 74ms/step - accuracy: 0.6667 - loss: 0.6819\n",
      "Test Accuracy: 0.6666666865348816\n"
     ]
    }
   ],
   "source": [
    "test_loss, test_acc = model.evaluate(X_test, y_test)\n",
    "print(\"Test Accuracy:\", test_acc)"
   ]
  }
 ],
 "metadata": {
  "kernelspec": {
   "display_name": "myenv",
   "language": "python",
   "name": "python3"
  },
  "language_info": {
   "codemirror_mode": {
    "name": "ipython",
    "version": 3
   },
   "file_extension": ".py",
   "mimetype": "text/x-python",
   "name": "python",
   "nbconvert_exporter": "python",
   "pygments_lexer": "ipython3",
   "version": "3.10.11"
  }
 },
 "nbformat": 4,
 "nbformat_minor": 5
}
